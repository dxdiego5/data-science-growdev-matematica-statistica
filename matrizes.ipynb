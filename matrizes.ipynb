{
  "nbformat": 4,
  "nbformat_minor": 0,
  "metadata": {
    "colab": {
      "name": "matrizes.ipynb",
      "provenance": [],
      "authorship_tag": "ABX9TyMTua64NESijYpT2+sIep3/"
    },
    "kernelspec": {
      "name": "python3",
      "display_name": "Python 3"
    },
    "language_info": {
      "name": "python"
    }
  },
  "cells": [
    {
      "cell_type": "markdown",
      "source": [
        "matrizes "
      ],
      "metadata": {
        "id": "fpygnERqgs_f"
      }
    },
    {
      "cell_type": "code",
      "execution_count": 63,
      "metadata": {
        "id": "cgZ9rEIAgjdU"
      },
      "outputs": [],
      "source": [
        "import numpy as np"
      ]
    },
    {
      "cell_type": "code",
      "source": [
        "n = np.arange(1,10,1)\n",
        "n"
      ],
      "metadata": {
        "colab": {
          "base_uri": "https://localhost:8080/"
        },
        "id": "A6H-wV17gwUq",
        "outputId": "db570c80-871b-471f-9511-1019aca96d5a"
      },
      "execution_count": 3,
      "outputs": [
        {
          "output_type": "execute_result",
          "data": {
            "text/plain": [
              "array([1, 2, 3, 4, 5, 6, 7, 8, 9])"
            ]
          },
          "metadata": {},
          "execution_count": 3
        }
      ]
    },
    {
      "cell_type": "code",
      "source": [
        "c = np.array([12,25,75,56])\n",
        "c"
      ],
      "metadata": {
        "colab": {
          "base_uri": "https://localhost:8080/"
        },
        "id": "Z6IOLxBigwZz",
        "outputId": "ab3d3f8d-ff0f-4d7e-d0a0-bdbe9e839dbf"
      },
      "execution_count": 4,
      "outputs": [
        {
          "output_type": "execute_result",
          "data": {
            "text/plain": [
              "array([12, 25, 75, 56])"
            ]
          },
          "metadata": {},
          "execution_count": 4
        }
      ]
    },
    {
      "cell_type": "code",
      "source": [
        "A = np.array ([[1,4,7],[4,2,-1],[7,1/2,np.sqrt(5)]])\n",
        "A"
      ],
      "metadata": {
        "id": "CVeYiTYfhfDi"
      },
      "execution_count": null,
      "outputs": []
    },
    {
      "cell_type": "code",
      "source": [
        "#  matris quadratica com identidade"
      ],
      "metadata": {
        "id": "C0o5ocnaiGau"
      },
      "execution_count": null,
      "outputs": []
    },
    {
      "cell_type": "code",
      "source": [
        "np_array_zero = np.zeros(10)\n",
        "np_array_one = np.ones(10)\n",
        "a = np.zeros(10),np.ones(10)\n",
        "list(a)"
      ],
      "metadata": {
        "id": "zGK1qyj4iGtr"
      },
      "execution_count": null,
      "outputs": []
    },
    {
      "cell_type": "code",
      "source": [
        "np.zeros(shape=(10,10))"
      ],
      "metadata": {
        "id": "8gRyFq1DiG-O"
      },
      "execution_count": null,
      "outputs": []
    },
    {
      "cell_type": "code",
      "source": [
        "np.ones(shape=(10,10))"
      ],
      "metadata": {
        "id": "-58IGiWIiHMT"
      },
      "execution_count": null,
      "outputs": []
    },
    {
      "cell_type": "code",
      "source": [
        "np.identity(10)#  matris quadratica com identidade representacao"
      ],
      "metadata": {
        "id": "Bl231u8RiHYv"
      },
      "execution_count": null,
      "outputs": []
    },
    {
      "cell_type": "code",
      "source": [
        "# matriz inversa"
      ],
      "metadata": {
        "id": "8wO5qg1xlOno"
      },
      "execution_count": null,
      "outputs": []
    },
    {
      "cell_type": "code",
      "source": [
        "a = np.array([[1,2,3,4],[5,6,7,8]])\n",
        "b = np.array([[10,20,-3,5],[8,9,-7,80]])\n",
        "soma = a + b\n",
        "soma"
      ],
      "metadata": {
        "id": "CLvRypqjlOwH"
      },
      "execution_count": null,
      "outputs": []
    },
    {
      "cell_type": "code",
      "source": [
        "a = np.matrix([[1,2,3,4],[5,6,7,8]])\n",
        "list(a)"
      ],
      "metadata": {
        "id": "nrK_7WHslO4x"
      },
      "execution_count": null,
      "outputs": []
    },
    {
      "cell_type": "code",
      "source": [
        "# calculos com matrizes\n",
        "A=np.array([[2,3,8],[1,-4,0]])\n",
        "C=np.array([[2,0],[8,6],[-4,-10]])\n",
        "S=3*A-1/2*C.T\n",
        "print(S)"
      ],
      "metadata": {
        "id": "SyP3iv_Dpk14"
      },
      "execution_count": null,
      "outputs": []
    },
    {
      "cell_type": "code",
      "source": [
        "# calculos com matrizes MULTIPLICACAO nao e comutativa"
      ],
      "metadata": {
        "id": "k6XTWm0VplE8"
      },
      "execution_count": null,
      "outputs": []
    },
    {
      "cell_type": "code",
      "source": [
        "a = np.array([[ 1,3,2 ], [0,5,-1]])\n",
        "b = np.array([[3,0],[4,-2], [1,6]])\n",
        "c = a @ b\n",
        "d= b @ A\n",
        "c"
      ],
      "metadata": {
        "id": "8MM9kIebrMIN"
      },
      "execution_count": null,
      "outputs": []
    },
    {
      "cell_type": "code",
      "source": [
        "# matriz inversa\n",
        "a = np.array([[1,1],[3,4]])\n",
        "b = np.array([[4,-1],[-3,1]])\n",
        "p1 = a@b\n",
        "p2 = b@a\n",
        "result = p1 - p2\n",
        "result"
      ],
      "metadata": {
        "id": "GB9dLz5orML0"
      },
      "execution_count": null,
      "outputs": []
    },
    {
      "cell_type": "code",
      "source": [
        "c = np.array([[1,2,-1],[2,2,4],[1,3,-3]])\n",
        "inversa = np.linalg.inv(c)\n",
        "inversa"
      ],
      "metadata": {
        "id": "1w00j8AqrMOW"
      },
      "execution_count": null,
      "outputs": []
    },
    {
      "cell_type": "code",
      "source": [
        "a = np.array([[1,1], [3,4]])\n",
        "b = np.array([[4,-1], [-3,1]])\n",
        "p2 = b@a\n",
        "\n",
        "c = np.array([[1,2,-1],[2,2,4],[1,3,-3]])\n",
        "inversa = np.linalg.inv(p2)\n",
        "inversa"
      ],
      "metadata": {
        "id": "vJSAWFIqrMS7"
      },
      "execution_count": null,
      "outputs": []
    },
    {
      "cell_type": "code",
      "source": [
        "# matriz determinante"
      ],
      "metadata": {
        "id": "7ct1aWvd-ntx"
      },
      "execution_count": 59,
      "outputs": []
    },
    {
      "cell_type": "code",
      "source": [
        "b = np.array([[1,-3,-4],[1,0,-1],[0,2,1]])\n",
        "A = np.linalg.det(b)\n",
        "A"
      ],
      "metadata": {
        "id": "ozEjriOE-n4N"
      },
      "execution_count": null,
      "outputs": []
    },
    {
      "cell_type": "code",
      "source": [
        "x = 0\n",
        "a = np.array([[1,-1,x],[2,-9,-7],[0,5,5]])\n",
        "deta = np.linalg.det(a)\n",
        "deta"
      ],
      "metadata": {
        "id": "nNjwauvJ-oBM"
      },
      "execution_count": null,
      "outputs": []
    },
    {
      "cell_type": "code",
      "source": [
        "import numpy as np\n",
        "x = 0\n",
        "A = np.array([[1,-1,x],[2,-9,-7],[0,5,5]])\n",
        "detA = np.linalg.det(A)\n",
        "round(detA)\n",
        "detA"
      ],
      "metadata": {
        "id": "QIpsIfCGCdiE"
      },
      "execution_count": null,
      "outputs": []
    },
    {
      "cell_type": "code",
      "source": [
        "# sistemas lineares"
      ],
      "metadata": {
        "id": "QJoQBaiqCdnQ"
      },
      "execution_count": null,
      "outputs": []
    },
    {
      "cell_type": "code",
      "source": [
        "a = np.array([[1,1,2], [4,-2,1],[5,-1,2]])\n",
        "b = np.array([[4,8,10]])\n",
        "x = np.linalg.inv(a)@b.T\n",
        "x"
      ],
      "metadata": {
        "colab": {
          "base_uri": "https://localhost:8080/"
        },
        "id": "34325cW9Cdrx",
        "outputId": "4330222b-e3e8-49c0-ce8c-92489b0f24d1"
      },
      "execution_count": 101,
      "outputs": [
        {
          "output_type": "execute_result",
          "data": {
            "text/plain": [
              "array([[ 1.],\n",
              "       [-1.],\n",
              "       [ 2.]])"
            ]
          },
          "metadata": {},
          "execution_count": 101
        }
      ]
    },
    {
      "cell_type": "code",
      "source": [
        "a = np.array([[1,2],[1,-3],[1,5],[1,-1]])\n",
        "b = np.array([[5,-1,8,5]])\n",
        "aa = a.T@a\n",
        "bb = a.T@b.T\n",
        "x = np.linalg.inv(aa)@bb\n",
        "x"
      ],
      "metadata": {
        "colab": {
          "base_uri": "https://localhost:8080/"
        },
        "id": "DT3mqglxCdyv",
        "outputId": "e33e12e6-8774-4f33-ee61-0cf4562be0c9"
      },
      "execution_count": 108,
      "outputs": [
        {
          "output_type": "execute_result",
          "data": {
            "text/plain": [
              "array([[3.53061224],\n",
              "       [0.95918367]])"
            ]
          },
          "metadata": {},
          "execution_count": 108
        }
      ]
    },
    {
      "cell_type": "code",
      "source": [
        ""
      ],
      "metadata": {
        "id": "hEQ7nTneExhK"
      },
      "execution_count": null,
      "outputs": []
    },
    {
      "cell_type": "code",
      "source": [
        "import sympy\n",
        "sympy.init_printing()\n",
        "import matplotlib.pyplot as plt\n",
        "t= sympy.symbols('t')\n",
        "N = 600/(5+3*2**(t))\n",
        "p = sympy.plot(N, xlim=(-20,20), ylim=(-1,300), show=True)"
      ],
      "metadata": {
        "colab": {
          "base_uri": "https://localhost:8080/",
          "height": 297
        },
        "id": "zVPgBFBjExkz",
        "outputId": "5904c118-33d4-4f30-a931-01c81a696491"
      },
      "execution_count": 109,
      "outputs": [
        {
          "output_type": "display_data",
          "data": {
            "text/plain": [
              "<Figure size 432x288 with 1 Axes>"
            ],
            "image/png": "[encoded data removed]"
          },
          "metadata": {
            "needs_background": "light"
          }
        }
      ]
    },
    {
      "cell_type": "code",
      "source": [
        ""
      ],
      "metadata": {
        "id": "0ry0hA6hExt9"
      },
      "execution_count": null,
      "outputs": []
    },
    {
      "cell_type": "code",
      "source": [
        ""
      ],
      "metadata": {
        "id": "fw27RQN3ExyF"
      },
      "execution_count": null,
      "outputs": []
    }
  ]
}