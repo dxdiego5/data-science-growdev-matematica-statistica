{
  "nbformat": 4,
  "nbformat_minor": 0,
  "metadata": {
    "colab": {
      "name": "funcao_estatistica.ipynb",
      "provenance": [],
      "authorship_tag": "ABX9TyNtC3Bm/zU2hgMsxtYF3l3j",
      "include_colab_link": true
    },
    "kernelspec": {
      "name": "python3",
      "display_name": "Python 3"
    },
    "language_info": {
      "name": "python"
    }
  },
  "cells": [
    {
      "cell_type": "markdown",
      "metadata": {
        "id": "view-in-github",
        "colab_type": "text"
      },
      "source": [
        "<a href=\"https://colab.research.google.com/github/dxdiego5/data-science-growdev-matematica-statistica/blob/main/funcao_estatistica.ipynb\" target=\"_parent\"><img src=\"https://colab.research.google.com/assets/colab-badge.svg\" alt=\"Open In Colab\"/></a>"
      ]
    },
    {
      "cell_type": "code",
      "execution_count": 7,
      "metadata": {
        "id": "wMYxYwwjqskd"
      },
      "outputs": [],
      "source": [
        "import numpy as np"
      ]
    },
    {
      "cell_type": "code",
      "source": [
        "def f(x):\n",
        "  return x**2 + 1\n",
        "\n",
        "x = np.arange(1,10,1)\n",
        "\n",
        "y = f(x)\n",
        "\n",
        "print(y)"
      ],
      "metadata": {
        "colab": {
          "base_uri": "https://localhost:8080/"
        },
        "id": "n5Lcbco0sOMJ",
        "outputId": "a1f8dd53-b6dd-403f-e172-64f5ba1410af"
      },
      "execution_count": 8,
      "outputs": [
        {
          "output_type": "stream",
          "name": "stdout",
          "text": [
            "[ 2  5 10 17 26 37 50 65 82]\n"
          ]
        }
      ]
    },
    {
      "cell_type": "code",
      "source": [
        "x = np.arange(10,21,0.5)\n",
        "\n",
        "def f(x):\n",
        "  return np.sqrt(x+1)\n",
        "\n",
        "y = f(x)\n",
        "print(y)"
      ],
      "metadata": {
        "id": "M5krssPPsOPH"
      },
      "execution_count": null,
      "outputs": []
    },
    {
      "cell_type": "code",
      "source": [
        ""
      ],
      "metadata": {
        "id": "bTwyYAQlsOTO"
      },
      "execution_count": null,
      "outputs": []
    },
    {
      "cell_type": "code",
      "source": [
        ""
      ],
      "metadata": {
        "id": "z-sMhU49sOVk"
      },
      "execution_count": null,
      "outputs": []
    },
    {
      "cell_type": "code",
      "source": [
        ""
      ],
      "metadata": {
        "id": "idnG9h6QsOZO"
      },
      "execution_count": null,
      "outputs": []
    }
  ]
}