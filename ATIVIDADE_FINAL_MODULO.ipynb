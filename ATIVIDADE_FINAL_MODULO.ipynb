{
  "nbformat": 4,
  "nbformat_minor": 0,
  "metadata": {
    "colab": {
      "name": "ATIVIDADE FINAL MODULO.ipynb",
      "provenance": [],
      "authorship_tag": "ABX9TyNN7O4g1EqH8+OAxgJqQdx2",
      "include_colab_link": true
    },
    "kernelspec": {
      "name": "python3",
      "display_name": "Python 3"
    },
    "language_info": {
      "name": "python"
    }
  },
  "cells": [
    {
      "cell_type": "markdown",
      "metadata": {
        "id": "view-in-github",
        "colab_type": "text"
      },
      "source": [
        "<a href=\"https://colab.research.google.com/github/dxdiego5/data-science-growdev-matematica-statistica/blob/main/ATIVIDADE_FINAL_MODULO.ipynb\" target=\"_parent\"><img src=\"https://colab.research.google.com/assets/colab-badge.svg\" alt=\"Open In Colab\"/></a>"
      ]
    },
    {
      "cell_type": "markdown",
      "source": [
        "**Avaliação Final - Modulo Matematica e Estatistica, Aluno: Diego Felipe Da Silva Bez**\n",
        "\n",
        "A temperatura máxima do dia em uma cidade foi anotada durante\n",
        "vinte e um dias. Os dados foram tabulados em uma matriz, na qual as\n",
        "linhas correspondem a semana e colunas aos dias, sendo que a\n",
        "coluna 1 corresponde ao domingo. Os dados estão em °C:"
      ],
      "metadata": {
        "id": "FZaZqzy4e5Dh"
      }
    },
    {
      "cell_type": "code",
      "execution_count": 28,
      "metadata": {
        "id": "oIuce3Aze3jQ"
      },
      "outputs": [],
      "source": [
        "import numpy as np\n",
        "import pandas as pd\n",
        "import matplotlib.pyplot as plt\n",
        "\n",
        "dados = np.array([\n",
        "         30,32,31.5,31,33,34,33,\n",
        "         32,30,28,29,30.5,31,29,\n",
        "         33,34,35,35,34.5,34,33 \n",
        "        ])"
      ]
    },
    {
      "cell_type": "markdown",
      "source": [
        "# A) Organize uma tabela de frequência para as classes.\n"
      ],
      "metadata": {
        "id": "2rZNybucmK_f"
      }
    },
    {
      "cell_type": "code",
      "source": [
        "columns=['Dom','Seg','Ter','Qua','Qui','Sex','Sab']\n",
        "row_week = np.reshape(dados,(3,7))\n",
        "\n",
        "frame = pd.DataFrame(row_week, columns=columns)\n",
        "frame"
      ],
      "metadata": {
        "colab": {
          "base_uri": "https://localhost:8080/",
          "height": 143
        },
        "id": "r7syYsG8fxmZ",
        "outputId": "ddd40b93-b87c-40db-a351-ec185272f0eb"
      },
      "execution_count": 29,
      "outputs": [
        {
          "output_type": "execute_result",
          "data": {
            "text/plain": [
              "    Dom   Seg   Ter   Qua   Qui   Sex   Sab\n",
              "0  30.0  32.0  31.5  31.0  33.0  34.0  33.0\n",
              "1  32.0  30.0  28.0  29.0  30.5  31.0  29.0\n",
              "2  33.0  34.0  35.0  35.0  34.5  34.0  33.0"
            ],
            "text/html": [
              "\n",
              "  <div id=\"df-85ed2667-c4f1-4a69-a625-8b005056d07f\">\n",
              "    <div class=\"colab-df-container\">\n",
              "      <div>\n",
              "<style scoped>\n",
              "    .dataframe tbody tr th:only-of-type {\n",
              "        vertical-align: middle;\n",
              "    }\n",
              "\n",
              "    .dataframe tbody tr th {\n",
              "        vertical-align: top;\n",
              "    }\n",
              "\n",
              "    .dataframe thead th {\n",
              "        text-align: right;\n",
              "    }\n",
              "</style>\n",
              "<table border=\"1\" class=\"dataframe\">\n",
              "  <thead>\n",
              "    <tr style=\"text-align: right;\">\n",
              "      <th></th>\n",
              "      <th>Dom</th>\n",
              "      <th>Seg</th>\n",
              "      <th>Ter</th>\n",
              "      <th>Qua</th>\n",
              "      <th>Qui</th>\n",
              "      <th>Sex</th>\n",
              "      <th>Sab</th>\n",
              "    </tr>\n",
              "  </thead>\n",
              "  <tbody>\n",
              "    <tr>\n",
              "      <th>0</th>\n",
              "      <td>30.0</td>\n",
              "      <td>32.0</td>\n",
              "      <td>31.5</td>\n",
              "      <td>31.0</td>\n",
              "      <td>33.0</td>\n",
              "      <td>34.0</td>\n",
              "      <td>33.0</td>\n",
              "    </tr>\n",
              "    <tr>\n",
              "      <th>1</th>\n",
              "      <td>32.0</td>\n",
              "      <td>30.0</td>\n",
              "      <td>28.0</td>\n",
              "      <td>29.0</td>\n",
              "      <td>30.5</td>\n",
              "      <td>31.0</td>\n",
              "      <td>29.0</td>\n",
              "    </tr>\n",
              "    <tr>\n",
              "      <th>2</th>\n",
              "      <td>33.0</td>\n",
              "      <td>34.0</td>\n",
              "      <td>35.0</td>\n",
              "      <td>35.0</td>\n",
              "      <td>34.5</td>\n",
              "      <td>34.0</td>\n",
              "      <td>33.0</td>\n",
              "    </tr>\n",
              "  </tbody>\n",
              "</table>\n",
              "</div>\n",
              "      <button class=\"colab-df-convert\" onclick=\"convertToInteractive('df-85ed2667-c4f1-4a69-a625-8b005056d07f')\"\n",
              "              title=\"Convert this dataframe to an interactive table.\"\n",
              "              style=\"display:none;\">\n",
              "        \n",
              "  <svg xmlns=\"http://www.w3.org/2000/svg\" height=\"24px\"viewBox=\"0 0 24 24\"\n",
              "       width=\"24px\">\n",
              "    <path d=\"M0 0h24v24H0V0z\" fill=\"none\"/>\n",
              "    <path d=\"M18.56 5.44l.94 2.06.94-2.06 2.06-.94-2.06-.94-.94-2.06-.94 2.06-2.06.94zm-11 1L8.5 8.5l.94-2.06 2.06-.94-2.06-.94L8.5 2.5l-.94 2.06-2.06.94zm10 10l.94 2.06.94-2.06 2.06-.94-2.06-.94-.94-2.06-.94 2.06-2.06.94z\"/><path d=\"M17.41 7.96l-1.37-1.37c-.4-.4-.92-.59-1.43-.59-.52 0-1.04.2-1.43.59L10.3 9.45l-7.72 7.72c-.78.78-.78 2.05 0 2.83L4 21.41c.39.39.9.59 1.41.59.51 0 1.02-.2 1.41-.59l7.78-7.78 2.81-2.81c.8-.78.8-2.07 0-2.86zM5.41 20L4 18.59l7.72-7.72 1.47 1.35L5.41 20z\"/>\n",
              "  </svg>\n",
              "      </button>\n",
              "      \n",
              "  <style>\n",
              "    .colab-df-container {\n",
              "      display:flex;\n",
              "      flex-wrap:wrap;\n",
              "      gap: 12px;\n",
              "    }\n",
              "\n",
              "    .colab-df-convert {\n",
              "      background-color: #E8F0FE;\n",
              "      border: none;\n",
              "      border-radius: 50%;\n",
              "      cursor: pointer;\n",
              "      display: none;\n",
              "      fill: #1967D2;\n",
              "      height: 32px;\n",
              "      padding: 0 0 0 0;\n",
              "      width: 32px;\n",
              "    }\n",
              "\n",
              "    .colab-df-convert:hover {\n",
              "      background-color: #E2EBFA;\n",
              "      box-shadow: 0px 1px 2px rgba(60, 64, 67, 0.3), 0px 1px 3px 1px rgba(60, 64, 67, 0.15);\n",
              "      fill: #174EA6;\n",
              "    }\n",
              "\n",
              "    [theme=dark] .colab-df-convert {\n",
              "      background-color: #3B4455;\n",
              "      fill: #D2E3FC;\n",
              "    }\n",
              "\n",
              "    [theme=dark] .colab-df-convert:hover {\n",
              "      background-color: #434B5C;\n",
              "      box-shadow: 0px 1px 3px 1px rgba(0, 0, 0, 0.15);\n",
              "      filter: drop-shadow(0px 1px 2px rgba(0, 0, 0, 0.3));\n",
              "      fill: #FFFFFF;\n",
              "    }\n",
              "  </style>\n",
              "\n",
              "      <script>\n",
              "        const buttonEl =\n",
              "          document.querySelector('#df-85ed2667-c4f1-4a69-a625-8b005056d07f button.colab-df-convert');\n",
              "        buttonEl.style.display =\n",
              "          google.colab.kernel.accessAllowed ? 'block' : 'none';\n",
              "\n",
              "        async function convertToInteractive(key) {\n",
              "          const element = document.querySelector('#df-85ed2667-c4f1-4a69-a625-8b005056d07f');\n",
              "          const dataTable =\n",
              "            await google.colab.kernel.invokeFunction('convertToInteractive',\n",
              "                                                     [key], {});\n",
              "          if (!dataTable) return;\n",
              "\n",
              "          const docLinkHtml = 'Like what you see? Visit the ' +\n",
              "            '<a target=\"_blank\" href=https://colab.research.google.com/notebooks/data_table.ipynb>data table notebook</a>'\n",
              "            + ' to learn more about interactive tables.';\n",
              "          element.innerHTML = '';\n",
              "          dataTable['output_type'] = 'display_data';\n",
              "          await google.colab.output.renderOutput(dataTable, element);\n",
              "          const docLink = document.createElement('div');\n",
              "          docLink.innerHTML = docLinkHtml;\n",
              "          element.appendChild(docLink);\n",
              "        }\n",
              "      </script>\n",
              "    </div>\n",
              "  </div>\n",
              "  "
            ]
          },
          "metadata": {},
          "execution_count": 29
        }
      ]
    },
    {
      "cell_type": "markdown",
      "source": [
        "# B) Para cada semana, faça um gráfico de linha, para acompanhar a evolução da temperatura."
      ],
      "metadata": {
        "id": "j-BjQXOsmHih"
      }
    },
    {
      "cell_type": "code",
      "source": [
        "\n",
        "plt.plot(columns, row_week[0]) \n",
        "plt.title('1º Semana') \n",
        "plt.xlabel('Temperatura em ºC')\n",
        "plt.ylabel('Dias da Semana')\n",
        "plt.show()\n",
        "row_week[0]"
      ],
      "metadata": {
        "colab": {
          "base_uri": "https://localhost:8080/",
          "height": 312
        },
        "id": "EsPeeABzfxvu",
        "outputId": "45e6c3ae-6e4b-49f4-ae04-877547b5f327"
      },
      "execution_count": 37,
      "outputs": [
        {
          "output_type": "display_data",
          "data": {
            "text/plain": [
              "<Figure size 432x288 with 1 Axes>"
            ],
            "image/png": "[encoded data removed]"
          },
          "metadata": {
            "needs_background": "light"
          }
        },
        {
          "output_type": "execute_result",
          "data": {
            "text/plain": [
              "array([30. , 32. , 31.5, 31. , 33. , 34. , 33. ])"
            ]
          },
          "metadata": {},
          "execution_count": 37
        }
      ]
    },
    {
      "cell_type": "code",
      "source": [
        "plt.plot(columns, row_week[1]) \n",
        "plt.title('2º Semana') \n",
        "plt.xlabel('Temperatura em ºC')\n",
        "plt.ylabel('Dias da Semana')\n",
        "plt.show()\n",
        "row_week[1]"
      ],
      "metadata": {
        "colab": {
          "base_uri": "https://localhost:8080/",
          "height": 312
        },
        "id": "Uc-BeQeklLeI",
        "outputId": "d4c626fd-4fbc-4ab5-e40c-556cca7a367b"
      },
      "execution_count": 38,
      "outputs": [
        {
          "output_type": "display_data",
          "data": {
            "text/plain": [
              "<Figure size 432x288 with 1 Axes>"
            ],
            "image/png": "[encoded data removed]"
          },
          "metadata": {
            "needs_background": "light"
          }
        },
        {
          "output_type": "execute_result",
          "data": {
            "text/plain": [
              "array([32. , 30. , 28. , 29. , 30.5, 31. , 29. ])"
            ]
          },
          "metadata": {},
          "execution_count": 38
        }
      ]
    },
    {
      "cell_type": "code",
      "source": [
        "plt.plot(columns, row_week[2]) \n",
        "plt.title('3º Semana') \n",
        "plt.xlabel('Temperatura em ºC')\n",
        "plt.ylabel('Dias da Semana')\n",
        "plt.show()\n",
        "row_week[2]"
      ],
      "metadata": {
        "colab": {
          "base_uri": "https://localhost:8080/",
          "height": 312
        },
        "id": "ICMfZjyNl2hh",
        "outputId": "d40585fe-f0a5-4878-d21d-f176802fef11"
      },
      "execution_count": 40,
      "outputs": [
        {
          "output_type": "display_data",
          "data": {
            "text/plain": [
              "<Figure size 432x288 with 1 Axes>"
            ],
            "image/png": "[encoded data removed]"
          },
          "metadata": {
            "needs_background": "light"
          }
        },
        {
          "output_type": "execute_result",
          "data": {
            "text/plain": [
              "array([33. , 34. , 35. , 35. , 34.5, 34. , 33. ])"
            ]
          },
          "metadata": {},
          "execution_count": 40
        }
      ]
    },
    {
      "cell_type": "markdown",
      "source": [
        "# C) Calcule a média de toda a série \n",
        "# D) Calcule a média para cada semana."
      ],
      "metadata": {
        "id": "AYAD9qp2pANF"
      }
    },
    {
      "cell_type": "code",
      "source": [
        "media_geral = np.mean(dados)\n",
        "print('Média Geral: ',round(media_geral),'ºC')"
      ],
      "metadata": {
        "colab": {
          "base_uri": "https://localhost:8080/"
        },
        "id": "OPChWvnll8yl",
        "outputId": "209bb07b-a646-483d-a258-222de24b3473"
      },
      "execution_count": 47,
      "outputs": [
        {
          "output_type": "stream",
          "name": "stdout",
          "text": [
            "Media Geral:  32 ºC\n"
          ]
        }
      ]
    },
    {
      "cell_type": "code",
      "source": [
        "media_week_1 = np.mean(row_week[0])\n",
        "media_week_2 = np.mean(row_week[1])\n",
        "media_week_3 = np.mean(row_week[2])\n",
        "print('média 1º semana: ', round(media_week_1),'ºC')\n",
        "print('média 2º semana: ', round(media_week_2),'ºC')\n",
        "print('média 3º semana: ', round(media_week_3),'ºC')"
      ],
      "metadata": {
        "colab": {
          "base_uri": "https://localhost:8080/"
        },
        "id": "_Y2bT7xRl84K",
        "outputId": "cb8effa4-1dc2-4596-e7b1-f1caf6e3f8b7"
      },
      "execution_count": 48,
      "outputs": [
        {
          "output_type": "stream",
          "name": "stdout",
          "text": [
            "média 1º semana:  32 ºC\n",
            "média 2º semana:  30 ºC\n",
            "média 3º semana:  34 ºC\n"
          ]
        }
      ]
    },
    {
      "cell_type": "code",
      "source": [
        "# E) Obter o box-plot para toda série e para cada semana."
      ],
      "metadata": {
        "id": "Emw3pvRzl8_Q"
      },
      "execution_count": null,
      "outputs": []
    },
    {
      "cell_type": "code",
      "source": [
        ""
      ],
      "metadata": {
        "id": "OQ3rykwTl9Fn"
      },
      "execution_count": null,
      "outputs": []
    }
  ]
}