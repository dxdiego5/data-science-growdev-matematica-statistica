{
  "nbformat": 4,
  "nbformat_minor": 0,
  "metadata": {
    "colab": {
      "name": "funcoes_afim.ipynb",
      "provenance": [],
      "collapsed_sections": [],
      "authorship_tag": "ABX9TyMEDY20io5kTeyUvHK4bvxw",
      "include_colab_link": true
    },
    "kernelspec": {
      "name": "python3",
      "display_name": "Python 3"
    },
    "language_info": {
      "name": "python"
    }
  },
  "cells": [
    {
      "cell_type": "markdown",
      "metadata": {
        "id": "view-in-github",
        "colab_type": "text"
      },
      "source": [
        "<a href=\"https://colab.research.google.com/github/dxdiego5/data-science-growdev-matematica-statistica/blob/main/funcoes_afim.ipynb\" target=\"_parent\"><img src=\"https://colab.research.google.com/assets/colab-badge.svg\" alt=\"Open In Colab\"/></a>"
      ]
    },
    {
      "cell_type": "code",
      "execution_count": 3,
      "metadata": {
        "id": "eS85acPW7JsA"
      },
      "outputs": [],
      "source": [
        "import numpy as np\n",
        "import matplotlib.pyplot as plt"
      ]
    },
    {
      "cell_type": "code",
      "source": [
        "x = np.arange(-2,3,0.1)\n",
        "\n",
        "def f(x):\n",
        "  return 2*x + 5\n",
        "\n",
        "y=f(x)\n",
        "plt.plot(x, y, color='green', linewidth=3)\n",
        "plt.xlabel('x')\n",
        "plt.ylabel('y')\n",
        "plt.grid(True)"
      ],
      "metadata": {
        "id": "Zp9v1Jjx7U7y"
      },
      "execution_count": null,
      "outputs": []
    },
    {
      "cell_type": "markdown",
      "source": [
        ":BHASKARA"
      ],
      "metadata": {
        "id": "S029sL3cIJ8i"
      }
    },
    {
      "cell_type": "code",
      "source": [
        "a = -1\n",
        "b = 5\n",
        "c =-6"
      ],
      "metadata": {
        "id": "kD8LxybH7VA_"
      },
      "execution_count": 19,
      "outputs": []
    },
    {
      "cell_type": "code",
      "source": [
        "Delta = b**2 - 4*a*c\n",
        "if Delta < 0:\n",
        "  print(\"nao possui raiz real\")\n",
        "else:\n",
        "  x1 = (-b + np.sqrt(Delta))/(2*a)\n",
        "  x2 = (-b - np.sqrt(Delta))/(2*a)\n",
        "\n",
        "print('x1=', x1)\n",
        "print('x2=', x2)\n",
        "\n",
        "# x1= 5.0\n",
        "# x2= -7.5\n",
        "\n",
        "\n",
        "# x1= 2.0\n",
        "# x2= 3.0"
      ],
      "metadata": {
        "id": "8n39SAKBIM3r"
      },
      "execution_count": null,
      "outputs": []
    },
    {
      "cell_type": "code",
      "source": [
        "# funcao 2 grau\n",
        "x=np.arange(1,4,0.1) # 0.1 é o passo\n",
        "def f(x):\n",
        "  return -x**2 +5*x -6\n",
        "y = f(x)\n",
        "plt.plot(x,y,color='green',linewidth=3)\n",
        "plt.xlabel('x')\n",
        "plt.ylabel('y')\n",
        "plt.grid(True)\n"
      ],
      "metadata": {
        "id": "Z1nMrKfjIM66"
      },
      "execution_count": null,
      "outputs": []
    },
    {
      "cell_type": "code",
      "source": [
        "import sympy as sy\n",
        "\n",
        "x = sy.symbols('x')\n",
        "r = -x**2 + 20*x + 100\n",
        "c = -x**2/4 -10*x + 100\n",
        "l = r - c\n",
        "l"
      ],
      "metadata": {
        "colab": {
          "base_uri": "https://localhost:8080/",
          "height": 54
        },
        "id": "ildgGgJvPxa0",
        "outputId": "2828535a-92b6-4e61-d515-a84c081da8bf"
      },
      "execution_count": 31,
      "outputs": [
        {
          "output_type": "execute_result",
          "data": {
            "text/plain": [
              "-3*x**2/4 + 30*x"
            ],
            "text/latex": "$\\displaystyle - \\frac{3 x^{2}}{4} + 30 x$"
          },
          "metadata": {},
          "execution_count": 31
        }
      ]
    },
    {
      "cell_type": "code",
      "source": [
        "\n",
        "x = np.arange(0,40,0.1)\n",
        "def f(x):\n",
        "  return -0.75*x**2 + 30*x\n",
        "y = f(x)\n",
        "plt.plot(x,y,color='green',linewidth=3)\n",
        "plt.xlabel('x')\n",
        "plt.ylabel('y')\n",
        "plt.grid(True)"
      ],
      "metadata": {
        "colab": {
          "base_uri": "https://localhost:8080/",
          "height": 279
        },
        "id": "FEQ4_Kt4Pxfe",
        "outputId": "921d8815-8e54-4103-c8e0-65c7f1e888e9"
      },
      "execution_count": 38,
      "outputs": [
        {
          "output_type": "display_data",
          "data": {
            "text/plain": [
              "<Figure size 432x288 with 1 Axes>"
            ],
            "image/png": "[encoded data removed]"
          },
          "metadata": {
            "needs_background": "light"
          }
        }
      ]
    },
    {
      "cell_type": "code",
      "source": [
        "# funcao exponencial"
      ],
      "metadata": {
        "id": "np5HjLWIWWr9"
      },
      "execution_count": null,
      "outputs": []
    },
    {
      "cell_type": "code",
      "source": [
        "x = np.arange(-2,3,0.1)\n",
        "def f(x):\n",
        "  return 2**x\n",
        "y = f(x)\n",
        "plt.plot(x,y,color='green',linewidth=3)\n",
        "plt.xlabel('x')\n",
        "plt.ylabel('y')\n",
        "plt.grid(True)"
      ],
      "metadata": {
        "colab": {
          "base_uri": "https://localhost:8080/",
          "height": 279
        },
        "id": "Dn9G90kSWays",
        "outputId": "2063f60c-a986-4f72-f440-87333ec055c1"
      },
      "execution_count": 39,
      "outputs": [
        {
          "output_type": "display_data",
          "data": {
            "text/plain": [
              "<Figure size 432x288 with 1 Axes>"
            ],
            "image/png": "[encoded data removed]"
          },
          "metadata": {
            "needs_background": "light"
          }
        }
      ]
    },
    {
      "cell_type": "code",
      "source": [
        "x = np.arange(-2,3,0.1)\n",
        "def f(x):\n",
        "  return 0.1**x\n",
        "y = f(x)\n",
        "plt.plot(x,y,color='green',linewidth=3)\n",
        "plt.xlabel('x')\n",
        "plt.ylabel('y')\n",
        "plt.grid(True)"
      ],
      "metadata": {
        "colab": {
          "base_uri": "https://localhost:8080/",
          "height": 279
        },
        "id": "N-7hWeyBXCki",
        "outputId": "6f742f47-c636-45f0-d797-b894c057d5c7"
      },
      "execution_count": 40,
      "outputs": [
        {
          "output_type": "display_data",
          "data": {
            "text/plain": [
              "<Figure size 432x288 with 1 Axes>"
            ],
            "image/png": "[encoded data removed]"
          },
          "metadata": {
            "needs_background": "light"
          }
        }
      ]
    },
    {
      "cell_type": "code",
      "source": [
        ""
      ],
      "metadata": {
        "id": "ewN8jBDrXCqh"
      },
      "execution_count": null,
      "outputs": []
    }
  ]
}